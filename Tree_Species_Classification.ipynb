{
  "nbformat": 4,
  "nbformat_minor": 0,
  "metadata": {
    "colab": {
      "provenance": []
    },
    "kernelspec": {
      "name": "python3",
      "display_name": "Python 3"
    },
    "language_info": {
      "name": "python"
    }
  },
  "cells": [
    {
      "cell_type": "code",
      "execution_count": 1,
      "metadata": {
        "colab": {
          "base_uri": "https://localhost:8080/"
        },
        "id": "l4dRYT_MRyxQ",
        "outputId": "6cadcd1f-afba-4098-baa6-168f09e0d366"
      },
      "outputs": [
        {
          "output_type": "stream",
          "name": "stdout",
          "text": [
            "Requirement already satisfied: kagglehub in /usr/local/lib/python3.11/dist-packages (0.3.12)\n",
            "Requirement already satisfied: packaging in /usr/local/lib/python3.11/dist-packages (from kagglehub) (25.0)\n",
            "Requirement already satisfied: pyyaml in /usr/local/lib/python3.11/dist-packages (from kagglehub) (6.0.2)\n",
            "Requirement already satisfied: requests in /usr/local/lib/python3.11/dist-packages (from kagglehub) (2.32.3)\n",
            "Requirement already satisfied: tqdm in /usr/local/lib/python3.11/dist-packages (from kagglehub) (4.67.1)\n",
            "Requirement already satisfied: charset-normalizer<4,>=2 in /usr/local/lib/python3.11/dist-packages (from requests->kagglehub) (3.4.2)\n",
            "Requirement already satisfied: idna<4,>=2.5 in /usr/local/lib/python3.11/dist-packages (from requests->kagglehub) (3.10)\n",
            "Requirement already satisfied: urllib3<3,>=1.21.1 in /usr/local/lib/python3.11/dist-packages (from requests->kagglehub) (2.4.0)\n",
            "Requirement already satisfied: certifi>=2017.4.17 in /usr/local/lib/python3.11/dist-packages (from requests->kagglehub) (2025.7.14)\n",
            "⏳ Downloading dataset...\n",
            "Downloading from https://www.kaggle.com/api/v1/datasets/download/viditgandhi/tree-species-identification-dataset?dataset_version_number=1...\n"
          ]
        },
        {
          "output_type": "stream",
          "name": "stderr",
          "text": [
            "100%|██████████| 72.8M/72.8M [00:00<00:00, 148MB/s]"
          ]
        },
        {
          "output_type": "stream",
          "name": "stdout",
          "text": [
            "Extracting files...\n"
          ]
        },
        {
          "output_type": "stream",
          "name": "stderr",
          "text": [
            "\n"
          ]
        },
        {
          "output_type": "stream",
          "name": "stdout",
          "text": [
            "✅ Path to dataset files: /root/.cache/kagglehub/datasets/viditgandhi/tree-species-identification-dataset/versions/1\n",
            "✅ Dataset moved successfully to: /content/tree-species-dataset\n",
            "\n",
            "📂 Files in the dataset folder:\n",
            "['Tree_Species_Dataset']\n"
          ]
        }
      ],
      "source": [
        "# ✅ Step 1: Install and Import KaggleHub\n",
        "!pip install kagglehub\n",
        "import kagglehub\n",
        "\n",
        "# ✅ Step 2: Download the Tree Species Dataset\n",
        "print(\"⏳ Downloading dataset...\")\n",
        "path = kagglehub.dataset_download(\"viditgandhi/tree-species-identification-dataset\")\n",
        "print(\"✅ Path to dataset files:\", path)\n",
        "\n",
        "# ✅ Step 3: Move the Dataset to a Simple Path\n",
        "import shutil\n",
        "\n",
        "source_path = '/root/.cache/kagglehub/datasets/viditgandhi/tree-species-identification-dataset/versions/1'\n",
        "destination_path = '/content/tree-species-dataset'\n",
        "\n",
        "try:\n",
        "    shutil.move(source_path, destination_path)\n",
        "    print(f\"✅ Dataset moved successfully to: {destination_path}\")\n",
        "except shutil.Error as e:\n",
        "    print(f\"⚠️ Error moving dataset: {e}\")\n",
        "except FileNotFoundError:\n",
        "    print(f\"⚠️ Source directory not found: {source_path}\")\n",
        "\n",
        "# ✅ Step 4: Check the Files in the Dataset\n",
        "import os\n",
        "\n",
        "print(\"\\n📂 Files in the dataset folder:\")\n",
        "print(os.listdir(destination_path))"
      ]
    }
  ]
}